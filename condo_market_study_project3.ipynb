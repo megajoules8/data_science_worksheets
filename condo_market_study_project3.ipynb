{
  "cells": [
    {
      "cell_type": "markdown",
      "metadata": {
        "id": "view-in-github",
        "colab_type": "text"
      },
      "source": [
        "<a href=\"https://colab.research.google.com/github/megajoules8/data_science_worksheets/blob/main/condo_market_study_project3.ipynb\" target=\"_parent\"><img src=\"https://colab.research.google.com/assets/colab-badge.svg\" alt=\"Open In Colab\"/></a>"
      ]
    },
    {
      "cell_type": "markdown",
      "metadata": {
        "id": "XNReGaF397aa"
      },
      "source": [
        "# Case Study - Condo Market in Singapore\n",
        "\n",
        "## Learning Objectives:\n",
        "- Become familiar with different visualization techniques  \n",
        "- Understand the confounding effect and the way to control for it\n",
        "- Explore possible relationships among multiple variables"
      ]
    },
    {
      "cell_type": "markdown",
      "metadata": {
        "id": "DtrOWEOS97a0"
      },
      "source": [
        "<i><b>Background</b></i>: Buying a condo might be a dream for some Singaporeans. Depending on the location and area of the property, the corresponding price differs substantially. For those who want to buy condos for residing or for investments, a deeper understanding of Singapore’s real estate market is crucial. The file `condo.csv` contains the prices of condos in Singapore for the past several years. Moreover, some attributes of such condos are also included in the file."
      ]
    },
    {
      "cell_type": "code",
      "source": [
        "import pandas as pd\n",
        "import numpy as np\n",
        "from matplotlib import pyplot as plt\n",
        "#from sklearn.linear_model import LinearRegression\n",
        "import seaborn as sns"
      ],
      "metadata": {
        "id": "_VJ1zSck_GNG"
      },
      "execution_count": null,
      "outputs": []
    },
    {
      "cell_type": "code",
      "execution_count": null,
      "metadata": {
        "id": "gP1LwdfG97a2"
      },
      "outputs": [],
      "source": [
        "from google.colab import files\n",
        "uploaded = files.upload()\n"
      ]
    },
    {
      "cell_type": "code",
      "source": [
        "df = pd.read_csv(\"condo.csv\")\n",
        "df.head(10)"
      ],
      "metadata": {
        "colab": {
          "base_uri": "https://localhost:8080/",
          "height": 363
        },
        "id": "M9EDSsI--viq",
        "outputId": "7ba203f2-f1c0-4e0f-e6ee-48dcbbc0ac08"
      },
      "execution_count": null,
      "outputs": [
        {
          "output_type": "execute_result",
          "data": {
            "text/plain": [
              "                      name    price  unit_price  district_code segment  \\\n",
              "0                 SEASCAPE  4388000        2028              4     CCR   \n",
              "1      COMMONWEALTH TOWERS  1300000        1887              3     RCR   \n",
              "2              THE TRILINQ  1755000        1304              5     OCR   \n",
              "3                THE CREST  2085000        2201              3     RCR   \n",
              "4            THE ANCHORAGE  1848888        1468              3     RCR   \n",
              "5        MOUNT FABER LODGE  4400000        1188              4     RCR   \n",
              "6             BLUE HORIZON   990000        1022              5     OCR   \n",
              "7           DOVER PARKVIEW  1088000        1162              5     RCR   \n",
              "8  CARIBBEAN AT KEPPEL BAY  1470000        1751              4     RCR   \n",
              "9            THE INTERLACE  4550000         868              4     RCR   \n",
              "\n",
              "     type  area     level  remaining_years    date  \n",
              "0  Resale  2164  06 to 10             87.0  Nov-19  \n",
              "1  Resale   689  16 to 20             93.0  Nov-19  \n",
              "2  Resale  1346  06 to 10             92.0  Nov-19  \n",
              "3  Resale   947  01 to 05             92.0  Nov-19  \n",
              "4  Resale  1259  01 to 05            999.0  Nov-19  \n",
              "5  Resale  3703  06 to 10            999.0  Oct-19  \n",
              "6  Resale   969  21 to 25             80.0  Oct-19  \n",
              "7  Resale   936  06 to 10             73.0  Oct-19  \n",
              "8  Resale   840  06 to 10             79.0  Oct-19  \n",
              "9  Resale  5242  16 to 20             89.0  Oct-19  "
            ],
            "text/html": [
              "\n",
              "  <div id=\"df-e54b2c01-7c64-42cd-a4f4-a435c89da981\">\n",
              "    <div class=\"colab-df-container\">\n",
              "      <div>\n",
              "<style scoped>\n",
              "    .dataframe tbody tr th:only-of-type {\n",
              "        vertical-align: middle;\n",
              "    }\n",
              "\n",
              "    .dataframe tbody tr th {\n",
              "        vertical-align: top;\n",
              "    }\n",
              "\n",
              "    .dataframe thead th {\n",
              "        text-align: right;\n",
              "    }\n",
              "</style>\n",
              "<table border=\"1\" class=\"dataframe\">\n",
              "  <thead>\n",
              "    <tr style=\"text-align: right;\">\n",
              "      <th></th>\n",
              "      <th>name</th>\n",
              "      <th>price</th>\n",
              "      <th>unit_price</th>\n",
              "      <th>district_code</th>\n",
              "      <th>segment</th>\n",
              "      <th>type</th>\n",
              "      <th>area</th>\n",
              "      <th>level</th>\n",
              "      <th>remaining_years</th>\n",
              "      <th>date</th>\n",
              "    </tr>\n",
              "  </thead>\n",
              "  <tbody>\n",
              "    <tr>\n",
              "      <th>0</th>\n",
              "      <td>SEASCAPE</td>\n",
              "      <td>4388000</td>\n",
              "      <td>2028</td>\n",
              "      <td>4</td>\n",
              "      <td>CCR</td>\n",
              "      <td>Resale</td>\n",
              "      <td>2164</td>\n",
              "      <td>06 to 10</td>\n",
              "      <td>87.0</td>\n",
              "      <td>Nov-19</td>\n",
              "    </tr>\n",
              "    <tr>\n",
              "      <th>1</th>\n",
              "      <td>COMMONWEALTH TOWERS</td>\n",
              "      <td>1300000</td>\n",
              "      <td>1887</td>\n",
              "      <td>3</td>\n",
              "      <td>RCR</td>\n",
              "      <td>Resale</td>\n",
              "      <td>689</td>\n",
              "      <td>16 to 20</td>\n",
              "      <td>93.0</td>\n",
              "      <td>Nov-19</td>\n",
              "    </tr>\n",
              "    <tr>\n",
              "      <th>2</th>\n",
              "      <td>THE TRILINQ</td>\n",
              "      <td>1755000</td>\n",
              "      <td>1304</td>\n",
              "      <td>5</td>\n",
              "      <td>OCR</td>\n",
              "      <td>Resale</td>\n",
              "      <td>1346</td>\n",
              "      <td>06 to 10</td>\n",
              "      <td>92.0</td>\n",
              "      <td>Nov-19</td>\n",
              "    </tr>\n",
              "    <tr>\n",
              "      <th>3</th>\n",
              "      <td>THE CREST</td>\n",
              "      <td>2085000</td>\n",
              "      <td>2201</td>\n",
              "      <td>3</td>\n",
              "      <td>RCR</td>\n",
              "      <td>Resale</td>\n",
              "      <td>947</td>\n",
              "      <td>01 to 05</td>\n",
              "      <td>92.0</td>\n",
              "      <td>Nov-19</td>\n",
              "    </tr>\n",
              "    <tr>\n",
              "      <th>4</th>\n",
              "      <td>THE ANCHORAGE</td>\n",
              "      <td>1848888</td>\n",
              "      <td>1468</td>\n",
              "      <td>3</td>\n",
              "      <td>RCR</td>\n",
              "      <td>Resale</td>\n",
              "      <td>1259</td>\n",
              "      <td>01 to 05</td>\n",
              "      <td>999.0</td>\n",
              "      <td>Nov-19</td>\n",
              "    </tr>\n",
              "    <tr>\n",
              "      <th>5</th>\n",
              "      <td>MOUNT FABER LODGE</td>\n",
              "      <td>4400000</td>\n",
              "      <td>1188</td>\n",
              "      <td>4</td>\n",
              "      <td>RCR</td>\n",
              "      <td>Resale</td>\n",
              "      <td>3703</td>\n",
              "      <td>06 to 10</td>\n",
              "      <td>999.0</td>\n",
              "      <td>Oct-19</td>\n",
              "    </tr>\n",
              "    <tr>\n",
              "      <th>6</th>\n",
              "      <td>BLUE HORIZON</td>\n",
              "      <td>990000</td>\n",
              "      <td>1022</td>\n",
              "      <td>5</td>\n",
              "      <td>OCR</td>\n",
              "      <td>Resale</td>\n",
              "      <td>969</td>\n",
              "      <td>21 to 25</td>\n",
              "      <td>80.0</td>\n",
              "      <td>Oct-19</td>\n",
              "    </tr>\n",
              "    <tr>\n",
              "      <th>7</th>\n",
              "      <td>DOVER PARKVIEW</td>\n",
              "      <td>1088000</td>\n",
              "      <td>1162</td>\n",
              "      <td>5</td>\n",
              "      <td>RCR</td>\n",
              "      <td>Resale</td>\n",
              "      <td>936</td>\n",
              "      <td>06 to 10</td>\n",
              "      <td>73.0</td>\n",
              "      <td>Oct-19</td>\n",
              "    </tr>\n",
              "    <tr>\n",
              "      <th>8</th>\n",
              "      <td>CARIBBEAN AT KEPPEL BAY</td>\n",
              "      <td>1470000</td>\n",
              "      <td>1751</td>\n",
              "      <td>4</td>\n",
              "      <td>RCR</td>\n",
              "      <td>Resale</td>\n",
              "      <td>840</td>\n",
              "      <td>06 to 10</td>\n",
              "      <td>79.0</td>\n",
              "      <td>Oct-19</td>\n",
              "    </tr>\n",
              "    <tr>\n",
              "      <th>9</th>\n",
              "      <td>THE INTERLACE</td>\n",
              "      <td>4550000</td>\n",
              "      <td>868</td>\n",
              "      <td>4</td>\n",
              "      <td>RCR</td>\n",
              "      <td>Resale</td>\n",
              "      <td>5242</td>\n",
              "      <td>16 to 20</td>\n",
              "      <td>89.0</td>\n",
              "      <td>Oct-19</td>\n",
              "    </tr>\n",
              "  </tbody>\n",
              "</table>\n",
              "</div>\n",
              "      <button class=\"colab-df-convert\" onclick=\"convertToInteractive('df-e54b2c01-7c64-42cd-a4f4-a435c89da981')\"\n",
              "              title=\"Convert this dataframe to an interactive table.\"\n",
              "              style=\"display:none;\">\n",
              "        \n",
              "  <svg xmlns=\"http://www.w3.org/2000/svg\" height=\"24px\"viewBox=\"0 0 24 24\"\n",
              "       width=\"24px\">\n",
              "    <path d=\"M0 0h24v24H0V0z\" fill=\"none\"/>\n",
              "    <path d=\"M18.56 5.44l.94 2.06.94-2.06 2.06-.94-2.06-.94-.94-2.06-.94 2.06-2.06.94zm-11 1L8.5 8.5l.94-2.06 2.06-.94-2.06-.94L8.5 2.5l-.94 2.06-2.06.94zm10 10l.94 2.06.94-2.06 2.06-.94-2.06-.94-.94-2.06-.94 2.06-2.06.94z\"/><path d=\"M17.41 7.96l-1.37-1.37c-.4-.4-.92-.59-1.43-.59-.52 0-1.04.2-1.43.59L10.3 9.45l-7.72 7.72c-.78.78-.78 2.05 0 2.83L4 21.41c.39.39.9.59 1.41.59.51 0 1.02-.2 1.41-.59l7.78-7.78 2.81-2.81c.8-.78.8-2.07 0-2.86zM5.41 20L4 18.59l7.72-7.72 1.47 1.35L5.41 20z\"/>\n",
              "  </svg>\n",
              "      </button>\n",
              "      \n",
              "  <style>\n",
              "    .colab-df-container {\n",
              "      display:flex;\n",
              "      flex-wrap:wrap;\n",
              "      gap: 12px;\n",
              "    }\n",
              "\n",
              "    .colab-df-convert {\n",
              "      background-color: #E8F0FE;\n",
              "      border: none;\n",
              "      border-radius: 50%;\n",
              "      cursor: pointer;\n",
              "      display: none;\n",
              "      fill: #1967D2;\n",
              "      height: 32px;\n",
              "      padding: 0 0 0 0;\n",
              "      width: 32px;\n",
              "    }\n",
              "\n",
              "    .colab-df-convert:hover {\n",
              "      background-color: #E2EBFA;\n",
              "      box-shadow: 0px 1px 2px rgba(60, 64, 67, 0.3), 0px 1px 3px 1px rgba(60, 64, 67, 0.15);\n",
              "      fill: #174EA6;\n",
              "    }\n",
              "\n",
              "    [theme=dark] .colab-df-convert {\n",
              "      background-color: #3B4455;\n",
              "      fill: #D2E3FC;\n",
              "    }\n",
              "\n",
              "    [theme=dark] .colab-df-convert:hover {\n",
              "      background-color: #434B5C;\n",
              "      box-shadow: 0px 1px 3px 1px rgba(0, 0, 0, 0.15);\n",
              "      filter: drop-shadow(0px 1px 2px rgba(0, 0, 0, 0.3));\n",
              "      fill: #FFFFFF;\n",
              "    }\n",
              "  </style>\n",
              "\n",
              "      <script>\n",
              "        const buttonEl =\n",
              "          document.querySelector('#df-e54b2c01-7c64-42cd-a4f4-a435c89da981 button.colab-df-convert');\n",
              "        buttonEl.style.display =\n",
              "          google.colab.kernel.accessAllowed ? 'block' : 'none';\n",
              "\n",
              "        async function convertToInteractive(key) {\n",
              "          const element = document.querySelector('#df-e54b2c01-7c64-42cd-a4f4-a435c89da981');\n",
              "          const dataTable =\n",
              "            await google.colab.kernel.invokeFunction('convertToInteractive',\n",
              "                                                     [key], {});\n",
              "          if (!dataTable) return;\n",
              "\n",
              "          const docLinkHtml = 'Like what you see? Visit the ' +\n",
              "            '<a target=\"_blank\" href=https://colab.research.google.com/notebooks/data_table.ipynb>data table notebook</a>'\n",
              "            + ' to learn more about interactive tables.';\n",
              "          element.innerHTML = '';\n",
              "          dataTable['output_type'] = 'display_data';\n",
              "          await google.colab.output.renderOutput(dataTable, element);\n",
              "          const docLink = document.createElement('div');\n",
              "          docLink.innerHTML = docLinkHtml;\n",
              "          element.appendChild(docLink);\n",
              "        }\n",
              "      </script>\n",
              "    </div>\n",
              "  </div>\n",
              "  "
            ]
          },
          "metadata": {},
          "execution_count": 4
        }
      ]
    },
    {
      "cell_type": "markdown",
      "metadata": {
        "id": "8m3K6C-V97bG"
      },
      "source": [
        "## Task 1: Explore the relationship between the condo price and the condo type\n",
        "\n",
        "For a Singaporean who wants to invest in the real estate market, would you suggest him or her to buy resale condos or newly built condos? Please analyze the historical data in the file `condo.csv` to arrive at your conclusion. Specifically, you need to explore the relationship between the condo price and the type of the condo (resale versus new). <b>Note</b>: if you want to draw histograms to explore the distribution of the condo price, please set bins as `np.arange(0.5e6, 5e6, 0.1e6)`."
      ]
    },
    {
      "cell_type": "code",
      "execution_count": null,
      "metadata": {
        "colab": {
          "base_uri": "https://localhost:8080/"
        },
        "id": "JDl01liI97bO",
        "outputId": "821d993c-1960-4342-ffee-344e6f300515"
      },
      "outputs": [
        {
          "output_type": "execute_result",
          "data": {
            "text/plain": [
              "array(['Resale', 'New Sale'], dtype=object)"
            ]
          },
          "metadata": {},
          "execution_count": 5
        }
      ],
      "source": [
        "df.type.unique()"
      ]
    },
    {
      "cell_type": "code",
      "source": [
        "df.price.describe() #get summary statistics for entire dataframe"
      ],
      "metadata": {
        "colab": {
          "base_uri": "https://localhost:8080/"
        },
        "id": "U009xtl1IVsU",
        "outputId": "43908b47-5a73-4b12-e17b-366a80dac0c7"
      },
      "execution_count": null,
      "outputs": [
        {
          "output_type": "execute_result",
          "data": {
            "text/plain": [
              "count    3.216800e+04\n",
              "mean     1.640373e+06\n",
              "std      1.432406e+06\n",
              "min      4.880000e+05\n",
              "25%      9.800000e+05\n",
              "50%      1.300000e+06\n",
              "75%      1.774850e+06\n",
              "max      5.200000e+07\n",
              "Name: price, dtype: float64"
            ]
          },
          "metadata": {},
          "execution_count": 6
        }
      ]
    },
    {
      "cell_type": "code",
      "execution_count": null,
      "metadata": {
        "colab": {
          "base_uri": "https://localhost:8080/",
          "height": 206
        },
        "id": "ZHT3tgDA97bu",
        "outputId": "712e33cf-49e3-40f1-df15-c8c4ade0dfdb"
      },
      "outputs": [
        {
          "output_type": "execute_result",
          "data": {
            "text/plain": [
              "                  name    price  unit_price  district_code segment    type  \\\n",
              "0             SEASCAPE  4388000        2028              4     CCR  Resale   \n",
              "1  COMMONWEALTH TOWERS  1300000        1887              3     RCR  Resale   \n",
              "2          THE TRILINQ  1755000        1304              5     OCR  Resale   \n",
              "3            THE CREST  2085000        2201              3     RCR  Resale   \n",
              "4        THE ANCHORAGE  1848888        1468              3     RCR  Resale   \n",
              "\n",
              "   area     level  remaining_years    date  \n",
              "0  2164  06 to 10             87.0  Nov-19  \n",
              "1   689  16 to 20             93.0  Nov-19  \n",
              "2  1346  06 to 10             92.0  Nov-19  \n",
              "3   947  01 to 05             92.0  Nov-19  \n",
              "4  1259  01 to 05            999.0  Nov-19  "
            ],
            "text/html": [
              "\n",
              "  <div id=\"df-5d4c303c-0972-48dc-9683-c7f337373e4b\">\n",
              "    <div class=\"colab-df-container\">\n",
              "      <div>\n",
              "<style scoped>\n",
              "    .dataframe tbody tr th:only-of-type {\n",
              "        vertical-align: middle;\n",
              "    }\n",
              "\n",
              "    .dataframe tbody tr th {\n",
              "        vertical-align: top;\n",
              "    }\n",
              "\n",
              "    .dataframe thead th {\n",
              "        text-align: right;\n",
              "    }\n",
              "</style>\n",
              "<table border=\"1\" class=\"dataframe\">\n",
              "  <thead>\n",
              "    <tr style=\"text-align: right;\">\n",
              "      <th></th>\n",
              "      <th>name</th>\n",
              "      <th>price</th>\n",
              "      <th>unit_price</th>\n",
              "      <th>district_code</th>\n",
              "      <th>segment</th>\n",
              "      <th>type</th>\n",
              "      <th>area</th>\n",
              "      <th>level</th>\n",
              "      <th>remaining_years</th>\n",
              "      <th>date</th>\n",
              "    </tr>\n",
              "  </thead>\n",
              "  <tbody>\n",
              "    <tr>\n",
              "      <th>0</th>\n",
              "      <td>SEASCAPE</td>\n",
              "      <td>4388000</td>\n",
              "      <td>2028</td>\n",
              "      <td>4</td>\n",
              "      <td>CCR</td>\n",
              "      <td>Resale</td>\n",
              "      <td>2164</td>\n",
              "      <td>06 to 10</td>\n",
              "      <td>87.0</td>\n",
              "      <td>Nov-19</td>\n",
              "    </tr>\n",
              "    <tr>\n",
              "      <th>1</th>\n",
              "      <td>COMMONWEALTH TOWERS</td>\n",
              "      <td>1300000</td>\n",
              "      <td>1887</td>\n",
              "      <td>3</td>\n",
              "      <td>RCR</td>\n",
              "      <td>Resale</td>\n",
              "      <td>689</td>\n",
              "      <td>16 to 20</td>\n",
              "      <td>93.0</td>\n",
              "      <td>Nov-19</td>\n",
              "    </tr>\n",
              "    <tr>\n",
              "      <th>2</th>\n",
              "      <td>THE TRILINQ</td>\n",
              "      <td>1755000</td>\n",
              "      <td>1304</td>\n",
              "      <td>5</td>\n",
              "      <td>OCR</td>\n",
              "      <td>Resale</td>\n",
              "      <td>1346</td>\n",
              "      <td>06 to 10</td>\n",
              "      <td>92.0</td>\n",
              "      <td>Nov-19</td>\n",
              "    </tr>\n",
              "    <tr>\n",
              "      <th>3</th>\n",
              "      <td>THE CREST</td>\n",
              "      <td>2085000</td>\n",
              "      <td>2201</td>\n",
              "      <td>3</td>\n",
              "      <td>RCR</td>\n",
              "      <td>Resale</td>\n",
              "      <td>947</td>\n",
              "      <td>01 to 05</td>\n",
              "      <td>92.0</td>\n",
              "      <td>Nov-19</td>\n",
              "    </tr>\n",
              "    <tr>\n",
              "      <th>4</th>\n",
              "      <td>THE ANCHORAGE</td>\n",
              "      <td>1848888</td>\n",
              "      <td>1468</td>\n",
              "      <td>3</td>\n",
              "      <td>RCR</td>\n",
              "      <td>Resale</td>\n",
              "      <td>1259</td>\n",
              "      <td>01 to 05</td>\n",
              "      <td>999.0</td>\n",
              "      <td>Nov-19</td>\n",
              "    </tr>\n",
              "  </tbody>\n",
              "</table>\n",
              "</div>\n",
              "      <button class=\"colab-df-convert\" onclick=\"convertToInteractive('df-5d4c303c-0972-48dc-9683-c7f337373e4b')\"\n",
              "              title=\"Convert this dataframe to an interactive table.\"\n",
              "              style=\"display:none;\">\n",
              "        \n",
              "  <svg xmlns=\"http://www.w3.org/2000/svg\" height=\"24px\"viewBox=\"0 0 24 24\"\n",
              "       width=\"24px\">\n",
              "    <path d=\"M0 0h24v24H0V0z\" fill=\"none\"/>\n",
              "    <path d=\"M18.56 5.44l.94 2.06.94-2.06 2.06-.94-2.06-.94-.94-2.06-.94 2.06-2.06.94zm-11 1L8.5 8.5l.94-2.06 2.06-.94-2.06-.94L8.5 2.5l-.94 2.06-2.06.94zm10 10l.94 2.06.94-2.06 2.06-.94-2.06-.94-.94-2.06-.94 2.06-2.06.94z\"/><path d=\"M17.41 7.96l-1.37-1.37c-.4-.4-.92-.59-1.43-.59-.52 0-1.04.2-1.43.59L10.3 9.45l-7.72 7.72c-.78.78-.78 2.05 0 2.83L4 21.41c.39.39.9.59 1.41.59.51 0 1.02-.2 1.41-.59l7.78-7.78 2.81-2.81c.8-.78.8-2.07 0-2.86zM5.41 20L4 18.59l7.72-7.72 1.47 1.35L5.41 20z\"/>\n",
              "  </svg>\n",
              "      </button>\n",
              "      \n",
              "  <style>\n",
              "    .colab-df-container {\n",
              "      display:flex;\n",
              "      flex-wrap:wrap;\n",
              "      gap: 12px;\n",
              "    }\n",
              "\n",
              "    .colab-df-convert {\n",
              "      background-color: #E8F0FE;\n",
              "      border: none;\n",
              "      border-radius: 50%;\n",
              "      cursor: pointer;\n",
              "      display: none;\n",
              "      fill: #1967D2;\n",
              "      height: 32px;\n",
              "      padding: 0 0 0 0;\n",
              "      width: 32px;\n",
              "    }\n",
              "\n",
              "    .colab-df-convert:hover {\n",
              "      background-color: #E2EBFA;\n",
              "      box-shadow: 0px 1px 2px rgba(60, 64, 67, 0.3), 0px 1px 3px 1px rgba(60, 64, 67, 0.15);\n",
              "      fill: #174EA6;\n",
              "    }\n",
              "\n",
              "    [theme=dark] .colab-df-convert {\n",
              "      background-color: #3B4455;\n",
              "      fill: #D2E3FC;\n",
              "    }\n",
              "\n",
              "    [theme=dark] .colab-df-convert:hover {\n",
              "      background-color: #434B5C;\n",
              "      box-shadow: 0px 1px 3px 1px rgba(0, 0, 0, 0.15);\n",
              "      filter: drop-shadow(0px 1px 2px rgba(0, 0, 0, 0.3));\n",
              "      fill: #FFFFFF;\n",
              "    }\n",
              "  </style>\n",
              "\n",
              "      <script>\n",
              "        const buttonEl =\n",
              "          document.querySelector('#df-5d4c303c-0972-48dc-9683-c7f337373e4b button.colab-df-convert');\n",
              "        buttonEl.style.display =\n",
              "          google.colab.kernel.accessAllowed ? 'block' : 'none';\n",
              "\n",
              "        async function convertToInteractive(key) {\n",
              "          const element = document.querySelector('#df-5d4c303c-0972-48dc-9683-c7f337373e4b');\n",
              "          const dataTable =\n",
              "            await google.colab.kernel.invokeFunction('convertToInteractive',\n",
              "                                                     [key], {});\n",
              "          if (!dataTable) return;\n",
              "\n",
              "          const docLinkHtml = 'Like what you see? Visit the ' +\n",
              "            '<a target=\"_blank\" href=https://colab.research.google.com/notebooks/data_table.ipynb>data table notebook</a>'\n",
              "            + ' to learn more about interactive tables.';\n",
              "          element.innerHTML = '';\n",
              "          dataTable['output_type'] = 'display_data';\n",
              "          await google.colab.output.renderOutput(dataTable, element);\n",
              "          const docLink = document.createElement('div');\n",
              "          docLink.innerHTML = docLinkHtml;\n",
              "          element.appendChild(docLink);\n",
              "        }\n",
              "      </script>\n",
              "    </div>\n",
              "  </div>\n",
              "  "
            ]
          },
          "metadata": {},
          "execution_count": 7
        }
      ],
      "source": [
        "resale = df.loc[(df.type == 'Resale')].copy()\n",
        "resale.head()"
      ]
    },
    {
      "cell_type": "code",
      "source": [
        "resale.price.describe()"
      ],
      "metadata": {
        "colab": {
          "base_uri": "https://localhost:8080/"
        },
        "id": "QIh9qLYmJLky",
        "outputId": "602fcdc8-000f-4ced-e416-a2fa5a6a5602"
      },
      "execution_count": null,
      "outputs": [
        {
          "output_type": "execute_result",
          "data": {
            "text/plain": [
              "count    2.052300e+04\n",
              "mean     1.823054e+06\n",
              "std      1.692404e+06\n",
              "min      4.880000e+05\n",
              "25%      1.028570e+06\n",
              "50%      1.375000e+06\n",
              "75%      1.950000e+06\n",
              "max      5.200000e+07\n",
              "Name: price, dtype: float64"
            ]
          },
          "metadata": {},
          "execution_count": 8
        }
      ]
    },
    {
      "cell_type": "code",
      "execution_count": null,
      "metadata": {
        "colab": {
          "base_uri": "https://localhost:8080/",
          "height": 206
        },
        "id": "AjzH7fHq97bw",
        "outputId": "1bc7d018-4c66-4c32-ed59-56629894f238"
      },
      "outputs": [
        {
          "output_type": "execute_result",
          "data": {
            "text/plain": [
              "            name    price  unit_price  district_code segment      type  area  \\\n",
              "44   QUEENS PEAK  2585000        1715              3     RCR  New Sale  1507   \n",
              "84   QUEENS PEAK  3304000        1650              3     RCR  New Sale  2002   \n",
              "94   QUEENS PEAK  2570000        1705              3     RCR  New Sale  1507   \n",
              "111  QUEENS PEAK  2500000        1659              3     RCR  New Sale  1507   \n",
              "151  QUEENS PEAK  1839000        1837              3     RCR  New Sale  1001   \n",
              "\n",
              "        level  remaining_years    date  \n",
              "44   36 to 40             95.0  Oct-19  \n",
              "84   36 to 40             95.0  Sep-19  \n",
              "94   36 to 40             95.0  Sep-19  \n",
              "111  26 to 30             95.0  Sep-19  \n",
              "151  36 to 40             95.0  Aug-19  "
            ],
            "text/html": [
              "\n",
              "  <div id=\"df-d5d6bf85-39a1-4d69-b283-8d9aa684bae2\">\n",
              "    <div class=\"colab-df-container\">\n",
              "      <div>\n",
              "<style scoped>\n",
              "    .dataframe tbody tr th:only-of-type {\n",
              "        vertical-align: middle;\n",
              "    }\n",
              "\n",
              "    .dataframe tbody tr th {\n",
              "        vertical-align: top;\n",
              "    }\n",
              "\n",
              "    .dataframe thead th {\n",
              "        text-align: right;\n",
              "    }\n",
              "</style>\n",
              "<table border=\"1\" class=\"dataframe\">\n",
              "  <thead>\n",
              "    <tr style=\"text-align: right;\">\n",
              "      <th></th>\n",
              "      <th>name</th>\n",
              "      <th>price</th>\n",
              "      <th>unit_price</th>\n",
              "      <th>district_code</th>\n",
              "      <th>segment</th>\n",
              "      <th>type</th>\n",
              "      <th>area</th>\n",
              "      <th>level</th>\n",
              "      <th>remaining_years</th>\n",
              "      <th>date</th>\n",
              "    </tr>\n",
              "  </thead>\n",
              "  <tbody>\n",
              "    <tr>\n",
              "      <th>44</th>\n",
              "      <td>QUEENS PEAK</td>\n",
              "      <td>2585000</td>\n",
              "      <td>1715</td>\n",
              "      <td>3</td>\n",
              "      <td>RCR</td>\n",
              "      <td>New Sale</td>\n",
              "      <td>1507</td>\n",
              "      <td>36 to 40</td>\n",
              "      <td>95.0</td>\n",
              "      <td>Oct-19</td>\n",
              "    </tr>\n",
              "    <tr>\n",
              "      <th>84</th>\n",
              "      <td>QUEENS PEAK</td>\n",
              "      <td>3304000</td>\n",
              "      <td>1650</td>\n",
              "      <td>3</td>\n",
              "      <td>RCR</td>\n",
              "      <td>New Sale</td>\n",
              "      <td>2002</td>\n",
              "      <td>36 to 40</td>\n",
              "      <td>95.0</td>\n",
              "      <td>Sep-19</td>\n",
              "    </tr>\n",
              "    <tr>\n",
              "      <th>94</th>\n",
              "      <td>QUEENS PEAK</td>\n",
              "      <td>2570000</td>\n",
              "      <td>1705</td>\n",
              "      <td>3</td>\n",
              "      <td>RCR</td>\n",
              "      <td>New Sale</td>\n",
              "      <td>1507</td>\n",
              "      <td>36 to 40</td>\n",
              "      <td>95.0</td>\n",
              "      <td>Sep-19</td>\n",
              "    </tr>\n",
              "    <tr>\n",
              "      <th>111</th>\n",
              "      <td>QUEENS PEAK</td>\n",
              "      <td>2500000</td>\n",
              "      <td>1659</td>\n",
              "      <td>3</td>\n",
              "      <td>RCR</td>\n",
              "      <td>New Sale</td>\n",
              "      <td>1507</td>\n",
              "      <td>26 to 30</td>\n",
              "      <td>95.0</td>\n",
              "      <td>Sep-19</td>\n",
              "    </tr>\n",
              "    <tr>\n",
              "      <th>151</th>\n",
              "      <td>QUEENS PEAK</td>\n",
              "      <td>1839000</td>\n",
              "      <td>1837</td>\n",
              "      <td>3</td>\n",
              "      <td>RCR</td>\n",
              "      <td>New Sale</td>\n",
              "      <td>1001</td>\n",
              "      <td>36 to 40</td>\n",
              "      <td>95.0</td>\n",
              "      <td>Aug-19</td>\n",
              "    </tr>\n",
              "  </tbody>\n",
              "</table>\n",
              "</div>\n",
              "      <button class=\"colab-df-convert\" onclick=\"convertToInteractive('df-d5d6bf85-39a1-4d69-b283-8d9aa684bae2')\"\n",
              "              title=\"Convert this dataframe to an interactive table.\"\n",
              "              style=\"display:none;\">\n",
              "        \n",
              "  <svg xmlns=\"http://www.w3.org/2000/svg\" height=\"24px\"viewBox=\"0 0 24 24\"\n",
              "       width=\"24px\">\n",
              "    <path d=\"M0 0h24v24H0V0z\" fill=\"none\"/>\n",
              "    <path d=\"M18.56 5.44l.94 2.06.94-2.06 2.06-.94-2.06-.94-.94-2.06-.94 2.06-2.06.94zm-11 1L8.5 8.5l.94-2.06 2.06-.94-2.06-.94L8.5 2.5l-.94 2.06-2.06.94zm10 10l.94 2.06.94-2.06 2.06-.94-2.06-.94-.94-2.06-.94 2.06-2.06.94z\"/><path d=\"M17.41 7.96l-1.37-1.37c-.4-.4-.92-.59-1.43-.59-.52 0-1.04.2-1.43.59L10.3 9.45l-7.72 7.72c-.78.78-.78 2.05 0 2.83L4 21.41c.39.39.9.59 1.41.59.51 0 1.02-.2 1.41-.59l7.78-7.78 2.81-2.81c.8-.78.8-2.07 0-2.86zM5.41 20L4 18.59l7.72-7.72 1.47 1.35L5.41 20z\"/>\n",
              "  </svg>\n",
              "      </button>\n",
              "      \n",
              "  <style>\n",
              "    .colab-df-container {\n",
              "      display:flex;\n",
              "      flex-wrap:wrap;\n",
              "      gap: 12px;\n",
              "    }\n",
              "\n",
              "    .colab-df-convert {\n",
              "      background-color: #E8F0FE;\n",
              "      border: none;\n",
              "      border-radius: 50%;\n",
              "      cursor: pointer;\n",
              "      display: none;\n",
              "      fill: #1967D2;\n",
              "      height: 32px;\n",
              "      padding: 0 0 0 0;\n",
              "      width: 32px;\n",
              "    }\n",
              "\n",
              "    .colab-df-convert:hover {\n",
              "      background-color: #E2EBFA;\n",
              "      box-shadow: 0px 1px 2px rgba(60, 64, 67, 0.3), 0px 1px 3px 1px rgba(60, 64, 67, 0.15);\n",
              "      fill: #174EA6;\n",
              "    }\n",
              "\n",
              "    [theme=dark] .colab-df-convert {\n",
              "      background-color: #3B4455;\n",
              "      fill: #D2E3FC;\n",
              "    }\n",
              "\n",
              "    [theme=dark] .colab-df-convert:hover {\n",
              "      background-color: #434B5C;\n",
              "      box-shadow: 0px 1px 3px 1px rgba(0, 0, 0, 0.15);\n",
              "      filter: drop-shadow(0px 1px 2px rgba(0, 0, 0, 0.3));\n",
              "      fill: #FFFFFF;\n",
              "    }\n",
              "  </style>\n",
              "\n",
              "      <script>\n",
              "        const buttonEl =\n",
              "          document.querySelector('#df-d5d6bf85-39a1-4d69-b283-8d9aa684bae2 button.colab-df-convert');\n",
              "        buttonEl.style.display =\n",
              "          google.colab.kernel.accessAllowed ? 'block' : 'none';\n",
              "\n",
              "        async function convertToInteractive(key) {\n",
              "          const element = document.querySelector('#df-d5d6bf85-39a1-4d69-b283-8d9aa684bae2');\n",
              "          const dataTable =\n",
              "            await google.colab.kernel.invokeFunction('convertToInteractive',\n",
              "                                                     [key], {});\n",
              "          if (!dataTable) return;\n",
              "\n",
              "          const docLinkHtml = 'Like what you see? Visit the ' +\n",
              "            '<a target=\"_blank\" href=https://colab.research.google.com/notebooks/data_table.ipynb>data table notebook</a>'\n",
              "            + ' to learn more about interactive tables.';\n",
              "          element.innerHTML = '';\n",
              "          dataTable['output_type'] = 'display_data';\n",
              "          await google.colab.output.renderOutput(dataTable, element);\n",
              "          const docLink = document.createElement('div');\n",
              "          docLink.innerHTML = docLinkHtml;\n",
              "          element.appendChild(docLink);\n",
              "        }\n",
              "      </script>\n",
              "    </div>\n",
              "  </div>\n",
              "  "
            ]
          },
          "metadata": {},
          "execution_count": 9
        }
      ],
      "source": [
        "newsale = df.loc[(df.type == 'New Sale')].copy()\n",
        "newsale.head()"
      ]
    },
    {
      "cell_type": "code",
      "source": [
        "newsale.price.describe()\n"
      ],
      "metadata": {
        "colab": {
          "base_uri": "https://localhost:8080/"
        },
        "id": "wqpLP9jnJV8t",
        "outputId": "2c2f9fae-b51b-4de3-d078-c5f046aaff69"
      },
      "execution_count": null,
      "outputs": [
        {
          "output_type": "execute_result",
          "data": {
            "text/plain": [
              "count    1.164500e+04\n",
              "mean     1.318420e+06\n",
              "std      6.764492e+05\n",
              "min      5.460000e+05\n",
              "25%      9.000000e+05\n",
              "50%      1.202000e+06\n",
              "75%      1.526000e+06\n",
              "max      1.888320e+07\n",
              "Name: price, dtype: float64"
            ]
          },
          "metadata": {},
          "execution_count": 10
        }
      ]
    },
    {
      "cell_type": "code",
      "execution_count": null,
      "metadata": {
        "colab": {
          "base_uri": "https://localhost:8080/",
          "height": 295
        },
        "id": "g2xSmdDh97b9",
        "outputId": "4d44dddc-3628-40aa-eda0-7224f42b2004"
      },
      "outputs": [
        {
          "output_type": "display_data",
          "data": {
            "text/plain": [
              "<Figure size 432x288 with 1 Axes>"
            ],
            "image/png": "[encoded data removed]"
          },
          "metadata": {
            "needs_background": "light"
          }
        }
      ],
      "source": [
        "setbins = np.arange(0.5e6, 5e6, 0.1e6)\n",
        "plt.hist(resale['price'], bins = setbins, edgecolor = 'black', label= 'Resale')\n",
        "plt.hist(newsale['price'], bins = setbins, edgecolor = 'black', color='red', label= 'New Sale')\n",
        "\n",
        "plt.xlabel('Price (S$)')\n",
        "plt.ylabel(\"Frequency\")\n",
        "plt.title('Resale vs. New Sale')\n",
        "plt.legend()\n",
        "plt.show()"
      ]
    },
    {
      "cell_type": "markdown",
      "metadata": {
        "id": "myT_kKWR97cE"
      },
      "source": [
        "This is a counter-intuitive finding that resale condos are more expensive than the new condos on average. Can you think about a possible reason for this?"
      ]
    },
    {
      "cell_type": "code",
      "execution_count": null,
      "metadata": {
        "id": "JoWxuzrk97cf"
      },
      "outputs": [],
      "source": [
        "#newsale is cheaper. There might be another variable impacting the price, such as location or size of the appartment."
      ]
    },
    {
      "cell_type": "code",
      "execution_count": null,
      "metadata": {
        "id": "HSSSNj6D97cn"
      },
      "outputs": [],
      "source": []
    },
    {
      "cell_type": "markdown",
      "source": [
        "Newsale is cheaper. There might be another variable impacting the price, such as location or size of the appartment."
      ],
      "metadata": {
        "id": "j9CVot2eczl2"
      }
    },
    {
      "cell_type": "code",
      "execution_count": null,
      "metadata": {
        "id": "821tMd0j97cq"
      },
      "outputs": [],
      "source": []
    },
    {
      "cell_type": "code",
      "execution_count": null,
      "metadata": {
        "id": "KBIToolJ97cs"
      },
      "outputs": [],
      "source": []
    },
    {
      "cell_type": "markdown",
      "metadata": {
        "id": "SegXvxoF97cw"
      },
      "source": [
        "## Task 2: Explore the relationship between the condo area and the condo type\n",
        "\n",
        "\n",
        "Now let’s focus on another attribute of a condo in the data set, the area of a condo. Please explore the distribution of the area of a condo by the condo type. Please draw a visualization to present your findings? If you want to draw histograms to explore the distribution of the area of a condo, please set the bins as `np.arange(0.5e3, 10e3, 0.1e3)`."
      ]
    },
    {
      "cell_type": "code",
      "execution_count": null,
      "metadata": {
        "colab": {
          "base_uri": "https://localhost:8080/",
          "height": 295
        },
        "id": "2A4Dhurb97dK",
        "outputId": "27386ed1-3079-4b38-a66d-4acc3b8e627e"
      },
      "outputs": [
        {
          "output_type": "display_data",
          "data": {
            "text/plain": [
              "<Figure size 432x288 with 1 Axes>"
            ],
            "image/png": "[encoded data removed]"
          },
          "metadata": {
            "needs_background": "light"
          }
        }
      ],
      "source": [
        "setbins2 = np.arange(0.5e3, 10e3, 0.15e3)\n",
        "plt.hist(resale.area, bins = setbins2, edgecolor = 'black', label = 'Resale')\n",
        "plt.hist(newsale.area, bins = setbins2, edgecolor = 'black', color='lime', label = 'New Sale')\n",
        "\n",
        "plt.xlabel('Area')\n",
        "plt.ylabel('Frequency')\n",
        "plt.title('Resale vs. New Sale')\n",
        "plt.legend()\n",
        "plt.show()"
      ]
    },
    {
      "cell_type": "code",
      "execution_count": null,
      "metadata": {
        "colab": {
          "base_uri": "https://localhost:8080/"
        },
        "id": "TCUPH2i997dk",
        "outputId": "e4504f51-72d3-404a-dbae-f6c681c8acf1"
      },
      "outputs": [
        {
          "output_type": "execute_result",
          "data": {
            "text/plain": [
              "count    20523.000000\n",
              "mean      1345.806607\n",
              "std        678.821591\n",
              "min        355.000000\n",
              "25%        969.000000\n",
              "50%       1227.000000\n",
              "75%       1507.000000\n",
              "max      11098.000000\n",
              "Name: area, dtype: float64"
            ]
          },
          "metadata": {},
          "execution_count": 14
        }
      ],
      "source": [
        "resale.area.describe()"
      ]
    },
    {
      "cell_type": "code",
      "execution_count": null,
      "metadata": {
        "colab": {
          "base_uri": "https://localhost:8080/"
        },
        "id": "vqa9V3iN97dr",
        "outputId": "4976a7b3-4d27-4f69-ab64-1b0575b6d4af"
      },
      "outputs": [
        {
          "output_type": "execute_result",
          "data": {
            "text/plain": [
              "count    11645.000000\n",
              "mean       862.379219\n",
              "std        336.641076\n",
              "min        409.000000\n",
              "25%        624.000000\n",
              "50%        807.000000\n",
              "75%       1033.000000\n",
              "max       7868.000000\n",
              "Name: area, dtype: float64"
            ]
          },
          "metadata": {},
          "execution_count": 15
        }
      ],
      "source": [
        "newsale.area.describe()"
      ]
    },
    {
      "cell_type": "code",
      "execution_count": null,
      "metadata": {
        "id": "U01s3mGd97dv"
      },
      "outputs": [],
      "source": [
        "#both histograms are skewed left, we see that the variance in resale condo area is higher, the overall spread goes both to lower and higer area codes than new condos.\n",
        "#We see that the size of the condo has a large impact on the price of the condo. New sale condos seem to usually be smaller in area."
      ]
    },
    {
      "cell_type": "code",
      "source": [
        "#looking at mean area\n",
        "mean_bar =plt.barh(['Resale', 'New Sale'], [resale.area.mean(), newsale.area.mean()], height = 0.2, color = 'b')\n",
        "mean_bar[0].set_color('green')\n",
        "plt.ylabel('Type of Sale')\n",
        "plt.xlabel('Area')\n",
        "plt.show()"
      ],
      "metadata": {
        "colab": {
          "base_uri": "https://localhost:8080/",
          "height": 279
        },
        "id": "lKKh7SeDN8DI",
        "outputId": "b2369a22-99a2-4eb9-d43b-91e390cb5d58"
      },
      "execution_count": null,
      "outputs": [
        {
          "output_type": "display_data",
          "data": {
            "text/plain": [
              "<Figure size 432x288 with 1 Axes>"
            ],
            "image/png": "[encoded data removed]"
          },
          "metadata": {
            "needs_background": "light"
          }
        }
      ]
    },
    {
      "cell_type": "code",
      "source": [
        "# #just looking at district code out of interest\n",
        "# setbins3 = np.arange(15, 20, 30)\n",
        "# plt.hist(resale.district_code, bins = setbins3, edgecolor = 'black', label = 'Resale')\n",
        "# plt.hist(newsale.district_code, bins = setbins3, edgecolor = 'black', color='lime', label = 'New Sale')\n",
        "\n",
        "# plt.xlabel('District Code')\n",
        "# plt.ylabel('Frequency')\n",
        "# plt.title('Resale vs. New Sale')\n",
        "# plt.legend()\n",
        "# plt.show()"
      ],
      "metadata": {
        "id": "LrJVKhLyN8no"
      },
      "execution_count": null,
      "outputs": []
    },
    {
      "cell_type": "markdown",
      "metadata": {
        "id": "TC4uZO2697d9"
      },
      "source": [
        "## Task 3: Explore the relationship between the condo area and the condo price\n",
        "\n",
        "\n",
        "Moreover, please explore the relationship between the area of a condo and its price. You can draw a scatter plot to uncover the possible pattern between the two variables."
      ]
    },
    {
      "cell_type": "code",
      "execution_count": null,
      "metadata": {
        "colab": {
          "base_uri": "https://localhost:8080/",
          "height": 54
        },
        "id": "Txx09RtJ97eA",
        "outputId": "248847cd-e874-4e5f-90af-d6a7a1a5e5be"
      },
      "outputs": [
        {
          "output_type": "display_data",
          "data": {
            "text/plain": [
              "<Figure size 432x288 with 1 Axes>"
            ],
            "image/png": "[encoded data removed]"
          },
          "metadata": {
            "needs_background": "light"
          }
        }
      ],
      "source": [
        "plt.scatter(df.area, df.price)\n",
        "plt.xlabel('Area')\n",
        "plt.ylabel('Price')\n",
        "plt.show()\n",
        "# #m, b = np.polyfit(df.area, df.price, 1)\n",
        "# #plt.plot(df.area, m*df.price + b)\n",
        "# #https://stackoverflow.com/questions/36420908/can-i-draw-a-regression-line-and-show-parameters-using-scatterplot-with-a-pandas\n",
        "\n",
        "# sns.lmplot(x='area',y='price',data=df,fit_reg=True)\n",
        "# plt.show()\n",
        "# #how do we show the regression line, r squared val?"
      ]
    },
    {
      "cell_type": "code",
      "execution_count": null,
      "metadata": {
        "id": "3pXfAF-v97eG"
      },
      "outputs": [],
      "source": [
        "#there is a strong linear correlation between area and price which prevents us from knowing if resale houses are more expensive because resale homes have a higher value\n",
        "#or if because they are more likely to be in a more expensive area"
      ]
    },
    {
      "cell_type": "code",
      "execution_count": null,
      "metadata": {
        "id": "xuGzfJJX97eI"
      },
      "outputs": [],
      "source": []
    },
    {
      "cell_type": "code",
      "execution_count": null,
      "metadata": {
        "id": "qY4kHSmm97eL"
      },
      "outputs": [],
      "source": []
    },
    {
      "cell_type": "markdown",
      "metadata": {
        "id": "rXSSHjuV97eT"
      },
      "source": [
        "From Tasks 1-3, now you should know the relationship found between the condo price and the condo type is not trustworthy. There is a third variable that is related to both the condo price and the condo type. In the above analysis, this third variable is the area of the condo. We call this third variable as the <i>confounder</i> or <i>confounding variable</i>."
      ]
    },
    {
      "cell_type": "markdown",
      "metadata": {
        "id": "9u2keIPS97eZ"
      },
      "source": [
        "## Task 4: Grouping\n",
        "\n",
        "Now let’s explore the ways of controlling for the confounding effect of the area of a condo in the analysis. A useful method is to do a stratified analysis. Since the confounder variable, the area of a condo, is continuous, to simplify the discussion, a discretization is carried out. Please form a new variable in the data set by grouping the condos into 3 different categories in terms of their areas. The three categories are defined as follows:\n",
        "1.\tSmall: the area of a condo less than 800 square feet\n",
        "2.\tMedian: the area of a condo between 800 and 1200 square feet\n",
        "3.\tLarge: the area of a condo larger than 1200 square feet"
      ]
    },
    {
      "cell_type": "code",
      "execution_count": null,
      "metadata": {
        "id": "fNKBstCP97ec",
        "colab": {
          "base_uri": "https://localhost:8080/",
          "height": 206
        },
        "outputId": "57e679f1-6d5f-419e-c0cf-f8585a58949d"
      },
      "outputs": [
        {
          "output_type": "execute_result",
          "data": {
            "text/plain": [
              "                  name    price  unit_price  district_code segment    type  \\\n",
              "0             SEASCAPE  4388000        2028              4     CCR  Resale   \n",
              "1  COMMONWEALTH TOWERS  1300000        1887              3     RCR  Resale   \n",
              "2          THE TRILINQ  1755000        1304              5     OCR  Resale   \n",
              "3            THE CREST  2085000        2201              3     RCR  Resale   \n",
              "4        THE ANCHORAGE  1848888        1468              3     RCR  Resale   \n",
              "\n",
              "   area     level  remaining_years    date  \n",
              "0  2164  06 to 10             87.0  Nov-19  \n",
              "1   689  16 to 20             93.0  Nov-19  \n",
              "2  1346  06 to 10             92.0  Nov-19  \n",
              "3   947  01 to 05             92.0  Nov-19  \n",
              "4  1259  01 to 05            999.0  Nov-19  "
            ],
            "text/html": [
              "\n",
              "  <div id=\"df-91f76b97-a0ad-40df-8c4a-744bc08484c2\">\n",
              "    <div class=\"colab-df-container\">\n",
              "      <div>\n",
              "<style scoped>\n",
              "    .dataframe tbody tr th:only-of-type {\n",
              "        vertical-align: middle;\n",
              "    }\n",
              "\n",
              "    .dataframe tbody tr th {\n",
              "        vertical-align: top;\n",
              "    }\n",
              "\n",
              "    .dataframe thead th {\n",
              "        text-align: right;\n",
              "    }\n",
              "</style>\n",
              "<table border=\"1\" class=\"dataframe\">\n",
              "  <thead>\n",
              "    <tr style=\"text-align: right;\">\n",
              "      <th></th>\n",
              "      <th>name</th>\n",
              "      <th>price</th>\n",
              "      <th>unit_price</th>\n",
              "      <th>district_code</th>\n",
              "      <th>segment</th>\n",
              "      <th>type</th>\n",
              "      <th>area</th>\n",
              "      <th>level</th>\n",
              "      <th>remaining_years</th>\n",
              "      <th>date</th>\n",
              "    </tr>\n",
              "  </thead>\n",
              "  <tbody>\n",
              "    <tr>\n",
              "      <th>0</th>\n",
              "      <td>SEASCAPE</td>\n",
              "      <td>4388000</td>\n",
              "      <td>2028</td>\n",
              "      <td>4</td>\n",
              "      <td>CCR</td>\n",
              "      <td>Resale</td>\n",
              "      <td>2164</td>\n",
              "      <td>06 to 10</td>\n",
              "      <td>87.0</td>\n",
              "      <td>Nov-19</td>\n",
              "    </tr>\n",
              "    <tr>\n",
              "      <th>1</th>\n",
              "      <td>COMMONWEALTH TOWERS</td>\n",
              "      <td>1300000</td>\n",
              "      <td>1887</td>\n",
              "      <td>3</td>\n",
              "      <td>RCR</td>\n",
              "      <td>Resale</td>\n",
              "      <td>689</td>\n",
              "      <td>16 to 20</td>\n",
              "      <td>93.0</td>\n",
              "      <td>Nov-19</td>\n",
              "    </tr>\n",
              "    <tr>\n",
              "      <th>2</th>\n",
              "      <td>THE TRILINQ</td>\n",
              "      <td>1755000</td>\n",
              "      <td>1304</td>\n",
              "      <td>5</td>\n",
              "      <td>OCR</td>\n",
              "      <td>Resale</td>\n",
              "      <td>1346</td>\n",
              "      <td>06 to 10</td>\n",
              "      <td>92.0</td>\n",
              "      <td>Nov-19</td>\n",
              "    </tr>\n",
              "    <tr>\n",
              "      <th>3</th>\n",
              "      <td>THE CREST</td>\n",
              "      <td>2085000</td>\n",
              "      <td>2201</td>\n",
              "      <td>3</td>\n",
              "      <td>RCR</td>\n",
              "      <td>Resale</td>\n",
              "      <td>947</td>\n",
              "      <td>01 to 05</td>\n",
              "      <td>92.0</td>\n",
              "      <td>Nov-19</td>\n",
              "    </tr>\n",
              "    <tr>\n",
              "      <th>4</th>\n",
              "      <td>THE ANCHORAGE</td>\n",
              "      <td>1848888</td>\n",
              "      <td>1468</td>\n",
              "      <td>3</td>\n",
              "      <td>RCR</td>\n",
              "      <td>Resale</td>\n",
              "      <td>1259</td>\n",
              "      <td>01 to 05</td>\n",
              "      <td>999.0</td>\n",
              "      <td>Nov-19</td>\n",
              "    </tr>\n",
              "  </tbody>\n",
              "</table>\n",
              "</div>\n",
              "      <button class=\"colab-df-convert\" onclick=\"convertToInteractive('df-91f76b97-a0ad-40df-8c4a-744bc08484c2')\"\n",
              "              title=\"Convert this dataframe to an interactive table.\"\n",
              "              style=\"display:none;\">\n",
              "        \n",
              "  <svg xmlns=\"http://www.w3.org/2000/svg\" height=\"24px\"viewBox=\"0 0 24 24\"\n",
              "       width=\"24px\">\n",
              "    <path d=\"M0 0h24v24H0V0z\" fill=\"none\"/>\n",
              "    <path d=\"M18.56 5.44l.94 2.06.94-2.06 2.06-.94-2.06-.94-.94-2.06-.94 2.06-2.06.94zm-11 1L8.5 8.5l.94-2.06 2.06-.94-2.06-.94L8.5 2.5l-.94 2.06-2.06.94zm10 10l.94 2.06.94-2.06 2.06-.94-2.06-.94-.94-2.06-.94 2.06-2.06.94z\"/><path d=\"M17.41 7.96l-1.37-1.37c-.4-.4-.92-.59-1.43-.59-.52 0-1.04.2-1.43.59L10.3 9.45l-7.72 7.72c-.78.78-.78 2.05 0 2.83L4 21.41c.39.39.9.59 1.41.59.51 0 1.02-.2 1.41-.59l7.78-7.78 2.81-2.81c.8-.78.8-2.07 0-2.86zM5.41 20L4 18.59l7.72-7.72 1.47 1.35L5.41 20z\"/>\n",
              "  </svg>\n",
              "      </button>\n",
              "      \n",
              "  <style>\n",
              "    .colab-df-container {\n",
              "      display:flex;\n",
              "      flex-wrap:wrap;\n",
              "      gap: 12px;\n",
              "    }\n",
              "\n",
              "    .colab-df-convert {\n",
              "      background-color: #E8F0FE;\n",
              "      border: none;\n",
              "      border-radius: 50%;\n",
              "      cursor: pointer;\n",
              "      display: none;\n",
              "      fill: #1967D2;\n",
              "      height: 32px;\n",
              "      padding: 0 0 0 0;\n",
              "      width: 32px;\n",
              "    }\n",
              "\n",
              "    .colab-df-convert:hover {\n",
              "      background-color: #E2EBFA;\n",
              "      box-shadow: 0px 1px 2px rgba(60, 64, 67, 0.3), 0px 1px 3px 1px rgba(60, 64, 67, 0.15);\n",
              "      fill: #174EA6;\n",
              "    }\n",
              "\n",
              "    [theme=dark] .colab-df-convert {\n",
              "      background-color: #3B4455;\n",
              "      fill: #D2E3FC;\n",
              "    }\n",
              "\n",
              "    [theme=dark] .colab-df-convert:hover {\n",
              "      background-color: #434B5C;\n",
              "      box-shadow: 0px 1px 3px 1px rgba(0, 0, 0, 0.15);\n",
              "      filter: drop-shadow(0px 1px 2px rgba(0, 0, 0, 0.3));\n",
              "      fill: #FFFFFF;\n",
              "    }\n",
              "  </style>\n",
              "\n",
              "      <script>\n",
              "        const buttonEl =\n",
              "          document.querySelector('#df-91f76b97-a0ad-40df-8c4a-744bc08484c2 button.colab-df-convert');\n",
              "        buttonEl.style.display =\n",
              "          google.colab.kernel.accessAllowed ? 'block' : 'none';\n",
              "\n",
              "        async function convertToInteractive(key) {\n",
              "          const element = document.querySelector('#df-91f76b97-a0ad-40df-8c4a-744bc08484c2');\n",
              "          const dataTable =\n",
              "            await google.colab.kernel.invokeFunction('convertToInteractive',\n",
              "                                                     [key], {});\n",
              "          if (!dataTable) return;\n",
              "\n",
              "          const docLinkHtml = 'Like what you see? Visit the ' +\n",
              "            '<a target=\"_blank\" href=https://colab.research.google.com/notebooks/data_table.ipynb>data table notebook</a>'\n",
              "            + ' to learn more about interactive tables.';\n",
              "          element.innerHTML = '';\n",
              "          dataTable['output_type'] = 'display_data';\n",
              "          await google.colab.output.renderOutput(dataTable, element);\n",
              "          const docLink = document.createElement('div');\n",
              "          docLink.innerHTML = docLinkHtml;\n",
              "          element.appendChild(docLink);\n",
              "        }\n",
              "      </script>\n",
              "    </div>\n",
              "  </div>\n",
              "  "
            ]
          },
          "metadata": {},
          "execution_count": 21
        }
      ],
      "source": [
        "# area_small = df[df.area < 800] # equal df area less than 800\n",
        "# area_median = df[(df.area > 800) & (df.area < 1200)] #equal df area greater than 800 and less than 1200\n",
        "# area_large = df[df.area > 1200] #equal df area greater than 1200\n",
        "# #area_small.head()\n",
        "\n",
        "#This is the answer but lets visualise something\n",
        "\n",
        "area_small = df[\"area\"] < 800\n",
        "area_median = (df[\"area\"] >= 800) & (df[\"area\"] <= 1200)\n",
        "area_large = df[\"area\"] > 1200\n"
      ]
    },
    {
      "cell_type": "code",
      "source": [
        "# newsale_gp_small = area_small.loc[(area_small.type == 'New Sale')].copy()\n",
        "# newsale_gp_median = area_median.loc[(area_median.type == 'New Sale')].copy()\n",
        "# newsale_gp_large = area_large.loc[(area_large.type == 'New Sale')].copy()\n",
        "# resale_gp_median = area_median.loc[(area_median.type == 'Resale')].copy()\n",
        "# resale_gp_small = area_small.loc[(area_small.type == 'Resale')].copy()\n",
        "# resale_gp_large = area_large.loc[(area_large.type == 'Resale')].copy()\n",
        "# #newsale_gp.head()"
      ],
      "metadata": {
        "id": "PxohnH4m9xkp"
      },
      "execution_count": null,
      "outputs": []
    },
    {
      "cell_type": "code",
      "source": [
        "# barlist = plt.bar(['Resale', 'New Sale'], [resale_gp_small.area.mean(), newsale_gp_small.area.mean()], width = 0.2, color = 'b')\n",
        "# barlist[0].set_color('green') #this is not required, shown for example\n",
        "\n",
        "# plt.ylabel('Type of Sale')\n",
        "# plt.xlabel('Area')\n",
        "# plt.show()"
      ],
      "metadata": {
        "id": "IJ6NjZr29tJ_"
      },
      "execution_count": null,
      "outputs": []
    },
    {
      "cell_type": "code",
      "source": [
        "# barlist = plt.bar(['Resale', 'New Sale'], [resale_gp_small.price.mean(), newsale_gp_small.price.mean()], width = 0.2, color = 'b')\n",
        "# barlist[0].set_color('green') #this is not required, shown for example\n",
        "\n",
        "# plt.ylabel('Price')\n",
        "# plt.xlabel('Type of Sale')\n",
        "# plt.show()"
      ],
      "metadata": {
        "id": "fe4uGlFq_PAN"
      },
      "execution_count": null,
      "outputs": []
    },
    {
      "cell_type": "code",
      "source": [
        "# groupings_by_area = np.arange(0.5e3, 10e3, 0.15e3)\n",
        "# plt.hist(area_small.area, bins = groupings_by_area, edgecolor = 'black', label = 'Resale')\n",
        "# plt.hist(area_median.area, bins = groupings_by_area, edgecolor = 'black', color='lime', label = 'New Sale')\n",
        "# plt.hist(area_large.area, bins = groupings_by_area, edgecolor = 'black', color='lime', label = 'New Sale')\n",
        "# plt.xlabel('Area')\n",
        "# plt.ylabel('Frequency')\n",
        "# plt.title('Resale vs. New Sale')\n",
        "# plt.legend()\n",
        "# plt.show()"
      ],
      "metadata": {
        "id": "N8Qe7ZuboiZv"
      },
      "execution_count": null,
      "outputs": []
    },
    {
      "cell_type": "code",
      "execution_count": null,
      "metadata": {
        "id": "qvzRozcj97ee",
        "colab": {
          "base_uri": "https://localhost:8080/",
          "height": 206
        },
        "outputId": "17da8de1-459a-4675-bcd9-919b56de241e"
      },
      "outputs": [
        {
          "output_type": "execute_result",
          "data": {
            "text/plain": [
              "                  name    price  unit_price  district_code segment    type  \\\n",
              "0             SEASCAPE  4388000        2028              4     CCR  Resale   \n",
              "1  COMMONWEALTH TOWERS  1300000        1887              3     RCR  Resale   \n",
              "2          THE TRILINQ  1755000        1304              5     OCR  Resale   \n",
              "3            THE CREST  2085000        2201              3     RCR  Resale   \n",
              "4        THE ANCHORAGE  1848888        1468              3     RCR  Resale   \n",
              "\n",
              "   area     level  remaining_years    date  area_gp  \n",
              "0  2164  06 to 10             87.0  Nov-19        3  \n",
              "1   689  16 to 20             93.0  Nov-19        1  \n",
              "2  1346  06 to 10             92.0  Nov-19        3  \n",
              "3   947  01 to 05             92.0  Nov-19        2  \n",
              "4  1259  01 to 05            999.0  Nov-19        3  "
            ],
            "text/html": [
              "\n",
              "  <div id=\"df-cf58f547-a630-4839-8124-f134e56f6538\">\n",
              "    <div class=\"colab-df-container\">\n",
              "      <div>\n",
              "<style scoped>\n",
              "    .dataframe tbody tr th:only-of-type {\n",
              "        vertical-align: middle;\n",
              "    }\n",
              "\n",
              "    .dataframe tbody tr th {\n",
              "        vertical-align: top;\n",
              "    }\n",
              "\n",
              "    .dataframe thead th {\n",
              "        text-align: right;\n",
              "    }\n",
              "</style>\n",
              "<table border=\"1\" class=\"dataframe\">\n",
              "  <thead>\n",
              "    <tr style=\"text-align: right;\">\n",
              "      <th></th>\n",
              "      <th>name</th>\n",
              "      <th>price</th>\n",
              "      <th>unit_price</th>\n",
              "      <th>district_code</th>\n",
              "      <th>segment</th>\n",
              "      <th>type</th>\n",
              "      <th>area</th>\n",
              "      <th>level</th>\n",
              "      <th>remaining_years</th>\n",
              "      <th>date</th>\n",
              "      <th>area_gp</th>\n",
              "    </tr>\n",
              "  </thead>\n",
              "  <tbody>\n",
              "    <tr>\n",
              "      <th>0</th>\n",
              "      <td>SEASCAPE</td>\n",
              "      <td>4388000</td>\n",
              "      <td>2028</td>\n",
              "      <td>4</td>\n",
              "      <td>CCR</td>\n",
              "      <td>Resale</td>\n",
              "      <td>2164</td>\n",
              "      <td>06 to 10</td>\n",
              "      <td>87.0</td>\n",
              "      <td>Nov-19</td>\n",
              "      <td>3</td>\n",
              "    </tr>\n",
              "    <tr>\n",
              "      <th>1</th>\n",
              "      <td>COMMONWEALTH TOWERS</td>\n",
              "      <td>1300000</td>\n",
              "      <td>1887</td>\n",
              "      <td>3</td>\n",
              "      <td>RCR</td>\n",
              "      <td>Resale</td>\n",
              "      <td>689</td>\n",
              "      <td>16 to 20</td>\n",
              "      <td>93.0</td>\n",
              "      <td>Nov-19</td>\n",
              "      <td>1</td>\n",
              "    </tr>\n",
              "    <tr>\n",
              "      <th>2</th>\n",
              "      <td>THE TRILINQ</td>\n",
              "      <td>1755000</td>\n",
              "      <td>1304</td>\n",
              "      <td>5</td>\n",
              "      <td>OCR</td>\n",
              "      <td>Resale</td>\n",
              "      <td>1346</td>\n",
              "      <td>06 to 10</td>\n",
              "      <td>92.0</td>\n",
              "      <td>Nov-19</td>\n",
              "      <td>3</td>\n",
              "    </tr>\n",
              "    <tr>\n",
              "      <th>3</th>\n",
              "      <td>THE CREST</td>\n",
              "      <td>2085000</td>\n",
              "      <td>2201</td>\n",
              "      <td>3</td>\n",
              "      <td>RCR</td>\n",
              "      <td>Resale</td>\n",
              "      <td>947</td>\n",
              "      <td>01 to 05</td>\n",
              "      <td>92.0</td>\n",
              "      <td>Nov-19</td>\n",
              "      <td>2</td>\n",
              "    </tr>\n",
              "    <tr>\n",
              "      <th>4</th>\n",
              "      <td>THE ANCHORAGE</td>\n",
              "      <td>1848888</td>\n",
              "      <td>1468</td>\n",
              "      <td>3</td>\n",
              "      <td>RCR</td>\n",
              "      <td>Resale</td>\n",
              "      <td>1259</td>\n",
              "      <td>01 to 05</td>\n",
              "      <td>999.0</td>\n",
              "      <td>Nov-19</td>\n",
              "      <td>3</td>\n",
              "    </tr>\n",
              "  </tbody>\n",
              "</table>\n",
              "</div>\n",
              "      <button class=\"colab-df-convert\" onclick=\"convertToInteractive('df-cf58f547-a630-4839-8124-f134e56f6538')\"\n",
              "              title=\"Convert this dataframe to an interactive table.\"\n",
              "              style=\"display:none;\">\n",
              "        \n",
              "  <svg xmlns=\"http://www.w3.org/2000/svg\" height=\"24px\"viewBox=\"0 0 24 24\"\n",
              "       width=\"24px\">\n",
              "    <path d=\"M0 0h24v24H0V0z\" fill=\"none\"/>\n",
              "    <path d=\"M18.56 5.44l.94 2.06.94-2.06 2.06-.94-2.06-.94-.94-2.06-.94 2.06-2.06.94zm-11 1L8.5 8.5l.94-2.06 2.06-.94-2.06-.94L8.5 2.5l-.94 2.06-2.06.94zm10 10l.94 2.06.94-2.06 2.06-.94-2.06-.94-.94-2.06-.94 2.06-2.06.94z\"/><path d=\"M17.41 7.96l-1.37-1.37c-.4-.4-.92-.59-1.43-.59-.52 0-1.04.2-1.43.59L10.3 9.45l-7.72 7.72c-.78.78-.78 2.05 0 2.83L4 21.41c.39.39.9.59 1.41.59.51 0 1.02-.2 1.41-.59l7.78-7.78 2.81-2.81c.8-.78.8-2.07 0-2.86zM5.41 20L4 18.59l7.72-7.72 1.47 1.35L5.41 20z\"/>\n",
              "  </svg>\n",
              "      </button>\n",
              "      \n",
              "  <style>\n",
              "    .colab-df-container {\n",
              "      display:flex;\n",
              "      flex-wrap:wrap;\n",
              "      gap: 12px;\n",
              "    }\n",
              "\n",
              "    .colab-df-convert {\n",
              "      background-color: #E8F0FE;\n",
              "      border: none;\n",
              "      border-radius: 50%;\n",
              "      cursor: pointer;\n",
              "      display: none;\n",
              "      fill: #1967D2;\n",
              "      height: 32px;\n",
              "      padding: 0 0 0 0;\n",
              "      width: 32px;\n",
              "    }\n",
              "\n",
              "    .colab-df-convert:hover {\n",
              "      background-color: #E2EBFA;\n",
              "      box-shadow: 0px 1px 2px rgba(60, 64, 67, 0.3), 0px 1px 3px 1px rgba(60, 64, 67, 0.15);\n",
              "      fill: #174EA6;\n",
              "    }\n",
              "\n",
              "    [theme=dark] .colab-df-convert {\n",
              "      background-color: #3B4455;\n",
              "      fill: #D2E3FC;\n",
              "    }\n",
              "\n",
              "    [theme=dark] .colab-df-convert:hover {\n",
              "      background-color: #434B5C;\n",
              "      box-shadow: 0px 1px 3px 1px rgba(0, 0, 0, 0.15);\n",
              "      filter: drop-shadow(0px 1px 2px rgba(0, 0, 0, 0.3));\n",
              "      fill: #FFFFFF;\n",
              "    }\n",
              "  </style>\n",
              "\n",
              "      <script>\n",
              "        const buttonEl =\n",
              "          document.querySelector('#df-cf58f547-a630-4839-8124-f134e56f6538 button.colab-df-convert');\n",
              "        buttonEl.style.display =\n",
              "          google.colab.kernel.accessAllowed ? 'block' : 'none';\n",
              "\n",
              "        async function convertToInteractive(key) {\n",
              "          const element = document.querySelector('#df-cf58f547-a630-4839-8124-f134e56f6538');\n",
              "          const dataTable =\n",
              "            await google.colab.kernel.invokeFunction('convertToInteractive',\n",
              "                                                     [key], {});\n",
              "          if (!dataTable) return;\n",
              "\n",
              "          const docLinkHtml = 'Like what you see? Visit the ' +\n",
              "            '<a target=\"_blank\" href=https://colab.research.google.com/notebooks/data_table.ipynb>data table notebook</a>'\n",
              "            + ' to learn more about interactive tables.';\n",
              "          element.innerHTML = '';\n",
              "          dataTable['output_type'] = 'display_data';\n",
              "          await google.colab.output.renderOutput(dataTable, element);\n",
              "          const docLink = document.createElement('div');\n",
              "          docLink.innerHTML = docLinkHtml;\n",
              "          element.appendChild(docLink);\n",
              "        }\n",
              "      </script>\n",
              "    </div>\n",
              "  </div>\n",
              "  "
            ]
          },
          "metadata": {},
          "execution_count": 47
        }
      ],
      "source": [
        "df['area_gp'] = 1*area_small + 2*area_median + 3*area_large #makes new coloumn with discreate area groups from 1-3\n",
        "df.head()"
      ]
    },
    {
      "cell_type": "code",
      "source": [
        "area_group = df[\"area_gp\"]\n",
        "sns.displot(area_group)\n",
        "\n",
        "plt.show()"
      ],
      "metadata": {
        "colab": {
          "base_uri": "https://localhost:8080/",
          "height": 369
        },
        "id": "xAZpZOldEQ5Z",
        "outputId": "5439b493-8dce-4ddb-d986-eb5e48d01b87"
      },
      "execution_count": null,
      "outputs": [
        {
          "output_type": "display_data",
          "data": {
            "text/plain": [
              "<Figure size 360x360 with 1 Axes>"
            ],
            "image/png": "[encoded data removed]"
          },
          "metadata": {
            "needs_background": "light"
          }
        }
      ]
    },
    {
      "cell_type": "code",
      "source": [
        "sns.catplot(x=\"area_gp\", y=\"price\", kind=\"bar\", data=df);"
      ],
      "metadata": {
        "colab": {
          "base_uri": "https://localhost:8080/",
          "height": 369
        },
        "id": "GC6pE5qrRZ4w",
        "outputId": "ae050b34-a852-42ab-bc63-157ae062254e"
      },
      "execution_count": null,
      "outputs": [
        {
          "output_type": "display_data",
          "data": {
            "text/plain": [
              "<Figure size 360x360 with 1 Axes>"
            ],
            "image/png": "[encoded data removed]"
          },
          "metadata": {
            "needs_background": "light"
          }
        }
      ]
    },
    {
      "cell_type": "code",
      "execution_count": null,
      "metadata": {
        "id": "JjIRGQaF97ee"
      },
      "outputs": [],
      "source": [
        "#df area_group equal df area_gp map 1 is small, 2 is median, and 3 is large\n",
        "#area_group = area_gp.map({'area_small': 1 , 'area_median': 2, 'area_large':3})\n",
        "# using this to do the grouping\n",
        "#df[\"area_gp\"] = 1 * area_small + 2 * area_median + 3 * area_large\n",
        "#df['area_gp'].unique()\n"
      ]
    },
    {
      "cell_type": "code",
      "execution_count": null,
      "metadata": {
        "id": "pJ-LI49d97eh"
      },
      "outputs": [],
      "source": [
        "#df.head()"
      ]
    },
    {
      "cell_type": "code",
      "source": [
        "#df[\"area_gp\"].value_counts(normalize = True)"
      ],
      "metadata": {
        "id": "sZ4lQkd5tQIE"
      },
      "execution_count": null,
      "outputs": []
    },
    {
      "cell_type": "code",
      "source": [
        "# #looking at mean area\n",
        "# mean_bar =plt.barh(['Resale', 'New Sale'], [resale.area.mean(), newsale.area.mean()], height = 0.2, color = 'b')\n",
        "# mean_bar[0].set_color('green')\n",
        "# plt.ylabel('Type of Sale')\n",
        "# plt.xlabel('Area')\n",
        "# plt.show()"
      ],
      "metadata": {
        "id": "zGdClJIati23"
      },
      "execution_count": null,
      "outputs": []
    },
    {
      "cell_type": "code",
      "source": [
        "#newsale_gp = area_gp.loc[(area_gp.type == 'New Sale')].copy()\n",
        "#newsale_gp.head()\n",
        "#grouped_condos = df.groupby(['type','area_gp'])['area_gp'].count()\n",
        "#grouped_condos.unstack()#.plot.hist()"
      ],
      "metadata": {
        "id": "q9HEcotZzxKR"
      },
      "execution_count": null,
      "outputs": []
    },
    {
      "cell_type": "code",
      "source": [
        "# #groupbar = [[30, 25, 50, 20],\n",
        "# [40, 23, 51, 17],\n",
        "# [35, 22, 45, 19]]\n",
        "# X = np.arange(4)\n",
        "# fig = plt.figure()\n",
        "# ax = fig.add_axes([0,0,1,1])\n",
        "# ax.bar(X + 0.00, data[0], color = 'b', width = 0.25)\n",
        "# ax.bar(X + 0.25, data[1], color = 'g', width = 0.25)\n",
        "# ax.bar(X + 0.50, data[2], color = 'r', width = 0.25)\n",
        "# plt.legend()\n",
        "# plt.show()"
      ],
      "metadata": {
        "id": "8vk7bwMmzyMe"
      },
      "execution_count": null,
      "outputs": []
    },
    {
      "cell_type": "code",
      "source": [
        "# barlist = plt.bar(['Resale', 'New Sale'], [df_resale.area.mean(), df_new.area.mean()], width = 0.2, color = 'b')\n",
        "# barlist[0].set_color('green') #this is not required, shown for example\n",
        "\n",
        "# plt.ylabel('Type of Sale')\n",
        "# plt.xlabel('Area')\n",
        "# plt.show()"
      ],
      "metadata": {
        "id": "qvZc84OZzywH"
      },
      "execution_count": null,
      "outputs": []
    },
    {
      "cell_type": "code",
      "source": [
        "# age = new_df[\"age\"]\n",
        "# sns.displot(age)\n",
        "\n",
        "# plt.show()"
      ],
      "metadata": {
        "id": "EELsDpCvxQ1Q"
      },
      "execution_count": null,
      "outputs": []
    },
    {
      "cell_type": "code",
      "source": [
        "# plt.close()\n",
        "# sns.barplot(\n",
        "#     data=new_df,\n",
        "#     x= \"location\",\n",
        "#     y= \"age\"\n",
        "# )\n",
        "# plt.show()"
      ],
      "metadata": {
        "id": "3a2ee34HyV9M"
      },
      "execution_count": null,
      "outputs": []
    },
    {
      "cell_type": "markdown",
      "metadata": {
        "id": "EwbpX96k97ei"
      },
      "source": [
        "## Task 5: The relationship between the condo price and the condo type, controlling for the condo area\n",
        "\n",
        "\n",
        "With the new categorical variable and the condo type, 6 possible combinations of the two variables can be generated to represent a condo’s profile. For example, we can define a condo's profile as small and resale. Now please explore the relationship between the condo price and condo type by 3 different categories of the condo area. What is your conclusion?"
      ]
    },
    {
      "cell_type": "code",
      "execution_count": null,
      "metadata": {
        "id": "Ltezs7hD97el"
      },
      "outputs": [],
      "source": [
        "# Hint: a side by side box plot for each area category, similar to what you did in the previous question"
      ]
    },
    {
      "cell_type": "markdown",
      "source": [
        "By controlling for apartment area by grouping, we can see that the size of the appartment also influences the price. Then, we can look at the relationship between new sale and resale price. We see that for the small and medium group, New sale appartments are more expensive, but for large appartments, the price for resale appartments is higher than for new sale."
      ],
      "metadata": {
        "id": "HLh1CuOaaJjg"
      }
    },
    {
      "cell_type": "code",
      "source": [
        "sns.catplot(x=\"type\", y=\"price\", hue=\"area_gp\", kind=\"bar\", data=df);\n",
        "#condolist =[\"type\", \"price\", \"area_gp\"]"
      ],
      "metadata": {
        "colab": {
          "base_uri": "https://localhost:8080/",
          "height": 369
        },
        "id": "lTgxT2g-GoX_",
        "outputId": "32387b5d-6b81-4751-e4c9-339f1f3dbcbb"
      },
      "execution_count": null,
      "outputs": [
        {
          "output_type": "display_data",
          "data": {
            "text/plain": [
              "<Figure size 407.875x360 with 1 Axes>"
            ],
            "image/png": "[encoded data removed]"
          },
          "metadata": {
            "needs_background": "light"
          }
        }
      ]
    },
    {
      "cell_type": "code",
      "source": [
        "sns.catplot(x=\"area_gp\", y=\"price\", hue=\"type\", kind=\"bar\", data=df);"
      ],
      "metadata": {
        "colab": {
          "base_uri": "https://localhost:8080/",
          "height": 369
        },
        "id": "tdq4T9_lMbuw",
        "outputId": "0911f979-3087-45e8-e8bc-5e0aa76c326a"
      },
      "execution_count": null,
      "outputs": [
        {
          "output_type": "display_data",
          "data": {
            "text/plain": [
              "<Figure size 442.25x360 with 1 Axes>"
            ],
            "image/png": "[encoded data removed]"
          },
          "metadata": {
            "needs_background": "light"
          }
        }
      ]
    },
    {
      "cell_type": "code",
      "source": [
        "g = sns.catplot(x=\"area_gp\", y=\"price\", hue=\"type\", kind=\"box\", data=df);\n",
        "#sns.catplot(x=\"day\", y=\"total_bill\", hue=\"smoker\", kind=\"box\", data=tips)\n",
        "#g.set(yscale=\"\");"
      ],
      "metadata": {
        "colab": {
          "base_uri": "https://localhost:8080/",
          "height": 369
        },
        "id": "2sb3Jp4xPMMs",
        "outputId": "863d80a1-099e-40b9-e5c3-8ccc47478968"
      },
      "execution_count": null,
      "outputs": [
        {
          "output_type": "display_data",
          "data": {
            "text/plain": [
              "<Figure size 442.25x360 with 1 Axes>"
            ],
            "image/png": "[encoded data removed]"
          },
          "metadata": {
            "needs_background": "light"
          }
        }
      ]
    },
    {
      "cell_type": "code",
      "source": [
        "# sns.violinplot(x=\"area_gp\", y=\"age\", data=new_df)\n",
        "\n",
        "# plt.show()"
      ],
      "metadata": {
        "id": "fE6YVltPFDWb"
      },
      "execution_count": null,
      "outputs": []
    },
    {
      "cell_type": "code",
      "source": [
        "areagp_mean_price = df.groupby([\"area_gp\",\"type\"])[\"price\"].mean()\n",
        "areagp_mean_price"
      ],
      "metadata": {
        "colab": {
          "base_uri": "https://localhost:8080/"
        },
        "id": "bZvTzlP5cAW6",
        "outputId": "2c3d0a89-5fea-4f3b-b846-12f4531c6c49"
      },
      "execution_count": null,
      "outputs": [
        {
          "output_type": "execute_result",
          "data": {
            "text/plain": [
              "area_gp  type    \n",
              "1        New Sale    9.827969e+05\n",
              "         Resale      9.019582e+05\n",
              "2        New Sale    1.445176e+06\n",
              "         Resale      1.233604e+06\n",
              "3        New Sale    2.269620e+06\n",
              "         Resale      2.390063e+06\n",
              "Name: price, dtype: float64"
            ]
          },
          "metadata": {},
          "execution_count": 61
        }
      ]
    },
    {
      "cell_type": "code",
      "execution_count": null,
      "metadata": {
        "id": "QxqXewp397em"
      },
      "outputs": [],
      "source": [
        "# size_set equal small, median, large (in a list format)\n",
        "# type_set equal Resale, New Sale (in a list format)\n",
        "\n",
        "# filt_SR equal df area_group equal size_set indexed at 0 and df type equal type_set indexed at 0\n",
        "# #do this same code for all 5 other combinations\n",
        "# #Feel free after creating filters to make bar charts, histograms, boxplots, etc. comparing price for each combination"
      ]
    },
    {
      "cell_type": "code",
      "execution_count": null,
      "metadata": {
        "id": "58ieQT4j97eq"
      },
      "outputs": [],
      "source": [
        "# draw_list = ['Resale', 'New Sale']\n",
        "# draw_data = [df_resale.price, df_new.price]\n",
        "\n",
        "# plt.boxplot(x = draw_data)\n",
        "# plt.yscale('log')\n",
        "# plt.xticks([1,2], draw_list)\n",
        "\n",
        "# plt.tight_layout() #not always necessary\n",
        "# plt.show()"
      ]
    },
    {
      "cell_type": "code",
      "execution_count": null,
      "metadata": {
        "id": "LI0ERhBF97er"
      },
      "outputs": [],
      "source": [
        "# Other visualizations provide other information about the relationship between age and location.\n",
        "# For example, a violin plot shows distributions of age like a histogram, but creates separate distributions for each category.\n",
        "\n",
        "# plt.close()\n",
        "# sns.violinplot(x=\"location\", y=\"age\", data=new_df)\n",
        "\n",
        "# plt.show()"
      ]
    },
    {
      "cell_type": "code",
      "source": [
        "# import codecademylib3_seaborn\n",
        "# import pandas as pd\n",
        "# import matplotlib.pyplot as plt\n",
        "# import seaborn as sns\n",
        "\n",
        "# # Import CSVs:\n",
        "# user_data = pd.read_csv(\"user_data.csv\")\n",
        "# pop_data = pd.read_csv(\"pop_data.csv\")\n",
        "\n",
        "# # Merged tables with location data:\n",
        "# new_df = pd.merge(user_data, pop_data)\n",
        "# new_df.loc[new_df.population_proper < 100000, \"location\"] = \"rural\"\n",
        "# new_df.loc[new_df.population_proper >= 100000, \"location\"] = \"urban\"\n",
        "\n",
        "\n",
        "\n",
        "# # Paste histogram code:\n",
        "# age = new_df[\"age\"]\n",
        "# sns.displot(age)\n",
        "\n",
        "# plt.show()\n",
        "\n",
        "# # Paste mean age location code:\n",
        "# location_mean_age = new_df.groupby(\"location\").age.mean()\n",
        "\n",
        "# print(location_mean_age)\n",
        "\n",
        "# # Paste barplot code:\n",
        "\n",
        "# plt.close()\n",
        "# sns.barplot(\n",
        "#     data=new_df,\n",
        "#     x= \"location\",\n",
        "#     y= \"age\"\n",
        "# )\n",
        "# plt.show()\n",
        "# # Paste violinplot code:\n",
        "# plt.close()\n",
        "# sns.violinplot(x=\"location\", y=\"age\", data=new_df)\n",
        "\n",
        "# plt.show()"
      ],
      "metadata": {
        "id": "2cV9XOGwznMZ"
      },
      "execution_count": null,
      "outputs": []
    },
    {
      "cell_type": "code",
      "source": [],
      "metadata": {
        "id": "-sF1kVLtzptm"
      },
      "execution_count": null,
      "outputs": []
    }
  ],
  "metadata": {
    "kernelspec": {
      "display_name": "Python 3",
      "language": "python",
      "name": "python3"
    },
    "language_info": {
      "codemirror_mode": {
        "name": "ipython",
        "version": 3
      },
      "file_extension": ".py",
      "mimetype": "text/x-python",
      "name": "python",
      "nbconvert_exporter": "python",
      "pygments_lexer": "ipython3",
      "version": "3.7.6"
    },
    "colab": {
      "provenance": [],
      "include_colab_link": true
    }
  },
  "nbformat": 4,
  "nbformat_minor": 0
}